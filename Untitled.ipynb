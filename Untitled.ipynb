{
 "cells": [
  {
   "cell_type": "code",
   "execution_count": 2,
   "metadata": {},
   "outputs": [
    {
     "name": "stdout",
     "output_type": "stream",
     "text": [
      "1.0.41\n"
     ]
    }
   ],
   "source": [
    "import azureml.core\n",
    "print(azureml.core.VERSION)"
   ]
  },
  {
   "cell_type": "code",
   "execution_count": 3,
   "metadata": {},
   "outputs": [
    {
     "name": "stdout",
     "output_type": "stream",
     "text": [
      "Performing interactive authentication. Please follow the instructions on the terminal.\n"
     ]
    },
    {
     "name": "stderr",
     "output_type": "stream",
     "text": [
      "Note, we have launched a browser for you to login. For old experience with device code, use \"az login --use-device-code\"\n",
      "You have logged in. Now let us find all the subscriptions to which you have access...\n"
     ]
    },
    {
     "name": "stdout",
     "output_type": "stream",
     "text": [
      "Interactive authentication successfully completed.\n"
     ]
    },
    {
     "name": "stderr",
     "output_type": "stream",
     "text": [
      "UserWarning: The resource group doesn't exist or was not provided. AzureML SDK is creating a resource group=Discovery-Paanki-DS in location=eastus2 using subscription=f373d94a-2c88-4254-bb2a-c17d85dd710f.\n"
     ]
    },
    {
     "name": "stdout",
     "output_type": "stream",
     "text": [
      "Deploying AppInsights with name myworkspinsights600a715d.\n",
      "Deployed AppInsights with name myworkspinsights600a715d. Took 3.31 seconds.\n",
      "Deploying KeyVault with name myworkspkeyvault7648aca3.\n",
      "Deploying StorageAccount with name myworkspstorage718e0b2fa.\n",
      "Deployed KeyVault with name myworkspkeyvault7648aca3. Took 16.81 seconds.\n",
      "Deployed StorageAccount with name myworkspstorage718e0b2fa. Took 18.3 seconds.\n",
      "Deploying Workspace with name myworkspace.\n",
      "Deployed Workspace with name myworkspace. Took 38.53 seconds.\n",
      "Deploying Compute Target with name cpu-cluster\n",
      "Deploying Compute Target with name gpu-cluster\n",
      "Deployed Compute Target with name cpu-cluster. Took 86.05 seconds\n",
      "Deployed Compute Target with name gpu-cluster. Took 86.24 seconds\n"
     ]
    }
   ],
   "source": [
    "from azureml.core import Workspace\n",
    "ws = Workspace.create(name='myworkspace',\n",
    "                      subscription_id='f373d94a-2c88-4254-bb2a-c17d85dd710f', \n",
    "                      resource_group='Discovery-Paanki-DS',\n",
    "                      create_resource_group=True,\n",
    "                      location='eastus2' \n",
    "                     )\n"
   ]
  },
  {
   "cell_type": "code",
   "execution_count": 4,
   "metadata": {},
   "outputs": [
    {
     "data": {
      "text/plain": [
       "{'id': '/subscriptions/f373d94a-2c88-4254-bb2a-c17d85dd710f/resourceGroups/Discovery-Paanki-DS/providers/Microsoft.MachineLearningServices/workspaces/myworkspace',\n",
       " 'name': 'myworkspace',\n",
       " 'location': 'eastus2',\n",
       " 'type': 'Microsoft.MachineLearningServices/workspaces',\n",
       " 'workspaceid': '851405ae-8b14-4599-814a-cdb38fbab869',\n",
       " 'description': '',\n",
       " 'friendlyName': 'myworkspace',\n",
       " 'creationTime': '2019-09-05T08:36:08.7611122+00:00',\n",
       " 'keyVault': '/subscriptions/f373d94a-2c88-4254-bb2a-c17d85dd710f/resourcegroups/discovery-paanki-ds/providers/microsoft.keyvault/vaults/myworkspkeyvault7648aca3',\n",
       " 'applicationInsights': '/subscriptions/f373d94a-2c88-4254-bb2a-c17d85dd710f/resourcegroups/discovery-paanki-ds/providers/microsoft.insights/components/myworkspinsights600a715d',\n",
       " 'identityPrincipalId': '06b9d364-1e25-49c6-a1db-673e32134955',\n",
       " 'identityTenantId': '72f988bf-86f1-41af-91ab-2d7cd011db47',\n",
       " 'identityType': 'SystemAssigned',\n",
       " 'storageAccount': '/subscriptions/f373d94a-2c88-4254-bb2a-c17d85dd710f/resourcegroups/discovery-paanki-ds/providers/microsoft.storage/storageaccounts/myworkspstorage718e0b2fa'}"
      ]
     },
     "execution_count": 4,
     "metadata": {},
     "output_type": "execute_result"
    }
   ],
   "source": [
    "ws.get_details()"
   ]
  },
  {
   "cell_type": "code",
   "execution_count": 5,
   "metadata": {},
   "outputs": [],
   "source": [
    "ws.write_config()"
   ]
  },
  {
   "cell_type": "code",
   "execution_count": 6,
   "metadata": {},
   "outputs": [],
   "source": [
    "from azureml.core import Experiment\n",
    "exp = Experiment(workspace=ws, name='myexp')\n",
    "run = exp.start_logging(ws,snapshot_directory=None)\n",
    "run.log('my magic number', 42)\n",
    "run.log_list('my list', [1, 1, 2, 3, 5, 8, 13, 21, 34, 55])\n",
    "run.complete()"
   ]
  },
  {
   "cell_type": "code",
   "execution_count": 7,
   "metadata": {},
   "outputs": [
    {
     "name": "stdout",
     "output_type": "stream",
     "text": [
      "https://mlworkspace.azure.ai/portal/subscriptions/f373d94a-2c88-4254-bb2a-c17d85dd710f/resourceGroups/Discovery-Paanki-DS/providers/Microsoft.MachineLearningServices/workspaces/myworkspace/experiments/myexp/runs/c9066b3e-5cf6-47d5-ae58-d3238bfabb2d\n"
     ]
    }
   ],
   "source": [
    "print(run.get_portal_url())"
   ]
  },
  {
   "cell_type": "code",
   "execution_count": null,
   "metadata": {},
   "outputs": [],
   "source": []
  }
 ],
 "metadata": {
  "kernelspec": {
   "display_name": "Python [conda env:AzureML]",
   "language": "python",
   "name": "conda-env-AzureML-py"
  },
  "language_info": {
   "codemirror_mode": {
    "name": "ipython",
    "version": 3
   },
   "file_extension": ".py",
   "mimetype": "text/x-python",
   "name": "python",
   "nbconvert_exporter": "python",
   "pygments_lexer": "ipython3",
   "version": "3.6.8"
  }
 },
 "nbformat": 4,
 "nbformat_minor": 2
}
